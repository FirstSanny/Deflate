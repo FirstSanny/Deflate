{
 "cells": [
  {
   "cell_type": "code",
   "execution_count": 1,
   "metadata": {},
   "outputs": [],
   "source": [
    "using DataFrames\n"
   ]
  },
  {
   "cell_type": "code",
   "execution_count": 2,
   "metadata": {},
   "outputs": [],
   "source": [
    "using IterativeSolvers\n",
    "using Plots\n",
    "using MatrixMarket"
   ]
  },
  {
   "cell_type": "code",
   "execution_count": 3,
   "metadata": {},
   "outputs": [
    {
     "data": {
      "text/plain": [
       "prolongation1 (generic function with 1 method)"
      ]
     },
     "execution_count": 3,
     "metadata": {},
     "output_type": "execute_result"
    }
   ],
   "source": [
    "function  prolongation1(n)\n",
    "    r = floor(Int, n/2) \n",
    "    R = zeros(r,n)\n",
    "    i = 1\n",
    "    j = 1\n",
    "    while i ≤ r \n",
    "        R[i,j] = 1\n",
    "        i = i + 1\n",
    "        j = j + 2\n",
    "    end\n",
    "    return R\n",
    "end"
   ]
  },
  {
   "cell_type": "code",
   "execution_count": 4,
   "metadata": {},
   "outputs": [
    {
     "data": {
      "text/plain": [
       "prolongation2 (generic function with 1 method)"
      ]
     },
     "execution_count": 4,
     "metadata": {},
     "output_type": "execute_result"
    }
   ],
   "source": [
    "function  prolongation2(n)\n",
    "    r = floor(Int, n/2)\n",
    "    R = zeros(r,n)\n",
    "    i = 1\n",
    "    j = 1\n",
    "    while i ≤ r \n",
    "        R[i,j] = 1\n",
    "        if(j+1 ≤ n)\n",
    "            R[i,j+1] = 2\n",
    "        end\n",
    "        if(j+2 ≤ n)\n",
    "            R[i,j+2] = 1\n",
    "        end\n",
    "        i = i + 1\n",
    "        j = j + 2\n",
    "    end\n",
    "    return 1/4*R\n",
    "end"
   ]
  },
  {
   "cell_type": "code",
   "execution_count": 5,
   "metadata": {},
   "outputs": [
    {
     "data": {
      "text/plain": [
       "computeTauI (generic function with 1 method)"
      ]
     },
     "execution_count": 5,
     "metadata": {},
     "output_type": "execute_result"
    }
   ],
   "source": [
    "function computeTauI(A, F, i)\n",
    "    aij = 0\n",
    "    for j ∈ F\n",
    "        aij = aij + abs(A[i,j])\n",
    "    end\n",
    "    \n",
    "    if(isempty(F))\n",
    "        return abs(A[i,i])\n",
    "    end\n",
    "    \n",
    "    return abs(A[i,i]) / aij\n",
    "end"
   ]
  },
  {
   "cell_type": "code",
   "execution_count": 6,
   "metadata": {},
   "outputs": [
    {
     "data": {
      "text/plain": [
       "Adj (generic function with 1 method)"
      ]
     },
     "execution_count": 6,
     "metadata": {},
     "output_type": "execute_result"
    }
   ],
   "source": [
    "function Adj(A, j, n)\n",
    "    Adj = Set()\n",
    "    for k = 1:n\n",
    "        if(A[j,k] != 0)\n",
    "            push!(Adj,k)\n",
    "        end\n",
    "    end\n",
    "    return Adj\n",
    "end"
   ]
  },
  {
   "cell_type": "code",
   "execution_count": 7,
   "metadata": {},
   "outputs": [
    {
     "data": {
      "text/plain": [
       "greedyCoarsing (generic function with 1 method)"
      ]
     },
     "execution_count": 7,
     "metadata": {},
     "output_type": "execute_result"
    }
   ],
   "source": [
    "function greedyCoarsing(A)\n",
    "    tau = 1\n",
    "    \n",
    "    n = size(A,1)\n",
    "    U = Set(collect(1:n))\n",
    "    F = Set()\n",
    "    C = Set()\n",
    "    TauI = zeros(n)\n",
    "    \n",
    "    for i = 1:n\n",
    "        TauI[i] = computeTauI(A,F,i)\n",
    "    end\n",
    "    \n",
    "    for i = 1:n\n",
    "        if(TauI[i] ≥ tau)\n",
    "            F = ∪(F, i)\n",
    "            U = setdiff(U, i)\n",
    "        end\n",
    "    end\n",
    "    \n",
    "    while(!isempty(U))\n",
    "        min = Inf\n",
    "        j = -1\n",
    "        for i = 1:n\n",
    "            if(!in(i,U))\n",
    "                continue\n",
    "            end\n",
    "            if(TauI[i] ≤ min)\n",
    "                min = TauI[i]\n",
    "                j = i\n",
    "            end\n",
    "        end\n",
    "        C = ∪(C, j)\n",
    "        U = setdiff(U,j)\n",
    "        for i ∈ ∩(U, Adj(A,j,n))\n",
    "            TauI[i] = computeTauI(A,F,i)\n",
    "            F = ∪(F, i)\n",
    "            U = setdiff(U, i)\n",
    "        end\n",
    "    end  \n",
    "    return F, C, TauI\n",
    "end"
   ]
  },
  {
   "cell_type": "code",
   "execution_count": 8,
   "metadata": {},
   "outputs": [
    {
     "data": {
      "text/plain": [
       "swapColumns (generic function with 1 method)"
      ]
     },
     "execution_count": 8,
     "metadata": {},
     "output_type": "execute_result"
    }
   ],
   "source": [
    "function swapColumns(A, i, j)\n",
    "    if(i == j)\n",
    "        return A\n",
    "    end\n",
    "    \n",
    "    m, n = size(A)\n",
    "    if (1 <= i <= n) && (1 <= j <= n)\n",
    "        for k = 1:m\n",
    "              @inbounds A[k,i],A[k,j] = A[k,j],A[k,i]\n",
    "        end\n",
    "        return A\n",
    "    else\n",
    "        throw(BoundsError())\n",
    "    end\n",
    "end "
   ]
  },
  {
   "cell_type": "code",
   "execution_count": 9,
   "metadata": {},
   "outputs": [
    {
     "data": {
      "text/plain": [
       "swapRows (generic function with 1 method)"
      ]
     },
     "execution_count": 9,
     "metadata": {},
     "output_type": "execute_result"
    }
   ],
   "source": [
    "function swapRows(A, i, j)\n",
    "    if(i == j)\n",
    "        return A\n",
    "    end\n",
    "    \n",
    "    m, n = size(A)\n",
    "    if (1 <= i <= n) && (1 <= j <= n)\n",
    "        for k = 1:n\n",
    "              @inbounds A[i,k],A[j,k] = A[j,k],A[i,k]\n",
    "        end\n",
    "        return A\n",
    "    else\n",
    "        throw(BoundsError())\n",
    "    end\n",
    "end "
   ]
  },
  {
   "cell_type": "code",
   "execution_count": 10,
   "metadata": {},
   "outputs": [
    {
     "data": {
      "text/plain": [
       "prolongationReduction (generic function with 1 method)"
      ]
     },
     "execution_count": 10,
     "metadata": {},
     "output_type": "execute_result"
    }
   ],
   "source": [
    "function prolongationReduction(A)\n",
    "    n = size(A,1)\n",
    "    \n",
    "    F, C, TauI = greedyCoarsing(A)\n",
    "    \n",
    "    # Swaps for F\n",
    "    f = length(F)\n",
    "    for i in 1:f\n",
    "        swapRows(A,i,F[i])\n",
    "        swapColumns(A,i,F[i])\n",
    "    end\n",
    "    \n",
    "    # Swaps for C\n",
    "    for i in f+1:n       \n",
    "        # was already swaped\n",
    "        if in(C[i-f],1:f)\n",
    "            if(in(i,F) && find(x->x==i,F)[1] == F[C[i-f]])\n",
    "                continue\n",
    "            end\n",
    "            swapRows(A,i,F[C[i-f]])\n",
    "            swapColumns(A,i,F[C[i-f]])\n",
    "        else\n",
    "            #normal swap\n",
    "            swapRows(A,i,C[i-f])\n",
    "            swapColumns(A,i,C[i-f])\n",
    "        end\n",
    "    end\n",
    "    \n",
    "    D1 = -1*inv(Diagonal(A[1:f,1:f]))\n",
    "    TopMatrix = hcat(D1, A[1:f,(f+1):n])\n",
    "    return full(transpose(vcat(TopMatrix, hcat(zeros(n-f,f),eye(n-f,n-f)))))\n",
    "end"
   ]
  },
  {
   "cell_type": "code",
   "execution_count": 12,
   "metadata": {},
   "outputs": [
    {
     "data": {
      "text/plain": [
       "prolongationAggregation (generic function with 1 method)"
      ]
     },
     "execution_count": 12,
     "metadata": {},
     "output_type": "execute_result"
    }
   ],
   "source": [
    "function prolongationAggregation(A)\n",
    "    # Init\n",
    "    n = size(A,1)\n",
    "    U = Set(collect(1:n))\n",
    "    W = Set()\n",
    "    V = Set()\n",
    "    tau = 0.25\n",
    "    q = 0\n",
    "    \n",
    "    # Start Computing\n",
    "    while true\n",
    "        q = q + 1\n",
    "        \n",
    "        # find u \n",
    "        u = -1\n",
    "        for localU ∈ U\n",
    "            if(!in(localU,W))\n",
    "                u = localU\n",
    "                #println(\"Knoten $u in Iteration $q\")\n",
    "                break\n",
    "            end\n",
    "        end\n",
    "        # Break if no u can be found\n",
    "        if(u == -1)\n",
    "            break\n",
    "        end\n",
    "            \n",
    "        \n",
    "        # Compute NiCTau\n",
    "        NiCTau = Set()\n",
    "        for j = 1:n\n",
    "            if( (A[u,j] != 0) & ( sqrt(A[u,j]^2/abs(A[u,u]*A[j,j])) ≥ tau ))\n",
    "                push!(NiCTau, j)\n",
    "            end\n",
    "        end\n",
    "        NiCTau = setdiff(NiCTau, W)\n",
    "        #println(\"Nahe Nachbarn $NiCTau in Iteration $q\")\n",
    "        \n",
    "        # Compute Vq\n",
    "        Vq = Set()\n",
    "        if(length(NiCTau) == 2)\n",
    "            #println(\"Nur nahe Nachbarn in Iteration $q\")\n",
    "            push!(NiCTau, u)\n",
    "            Vq = NiCTau\n",
    "            push!(V, Vq)\n",
    "        else\n",
    "            # Compute NiDTau\n",
    "            NiDTau = Set()\n",
    "            for i = 1:n\n",
    "                \n",
    "                isDistantNeighbor = 1\n",
    "                for j in NiCTau\n",
    "                    if( (A[i,j] == 0) | ( sqrt(A[i,j]^2/abs(A[i,i]*A[j,j])) < tau ))\n",
    "                        isDistantNeighbor = 0\n",
    "                    end\n",
    "                end\n",
    "                if(isDistantNeighbor == 1)\n",
    "                    push!(NiDTau, i)\n",
    "                end\n",
    "            end\n",
    "            #println(\"Distante Nachbarn $NiCTau in Iteration $q\")\n",
    "            push!(NiCTau, u)\n",
    "            Vq = ∪(NiCTau, NiDTau)\n",
    "            push!(V, Vq)\n",
    "        end\n",
    "        \n",
    "        # Set W and U\n",
    "        W = ∪(W, Vq)\n",
    "        #println(\"W in Iteration $q ist $W\")\n",
    "        U = setdiff(U,Vq)\n",
    "        #println(\"U in Iteration $q ist $U\")\n",
    "        \n",
    "        # Break if there are no more entries in U\n",
    "        if(length(U) == 0)\n",
    "            break\n",
    "        end\n",
    "    end\n",
    "    \n",
    "    #println(\"V Vektoren $V\")\n",
    "    \n",
    "    Z = zeros(q,n)\n",
    "    # Compute Interpolation-Matrix\n",
    "    for i = 1:q\n",
    "        Vq = pop!(V)\n",
    "        #println(\"Vq in Iteration $j ist $Vq\")\n",
    "        for j = 1:n\n",
    "            if(in(j, Vq))\n",
    "                Z[i,j] = 1\n",
    "            end\n",
    "        end \n",
    "    end\n",
    "    return Z\n",
    "    \n",
    "end"
   ]
  },
  {
   "cell_type": "code",
   "execution_count": 13,
   "metadata": {},
   "outputs": [
    {
     "data": {
      "text/plain": [
       "solve (generic function with 1 method)"
      ]
     },
     "execution_count": 13,
     "metadata": {},
     "output_type": "execute_result"
    }
   ],
   "source": [
    "# Solves the System Ax=b with de Deflation-Operator R\n",
    "function solve(A, b, R)\n",
    "    n = size(A,1)\n",
    "    \n",
    "    P = transpose(R)\n",
    "    \n",
    "    PAR = P*inv(R*A*P)*R\n",
    "    \n",
    "    PN = I - A * PAR + PAR\n",
    "    \n",
    "    gmres(A, b; tol = 0.0001, Pl = lufact(PN), log = true)   \n",
    "end"
   ]
  },
  {
   "cell_type": "code",
   "execution_count": 14,
   "metadata": {},
   "outputs": [
    {
     "data": {
      "text/plain": [
       "getA (generic function with 1 method)"
      ]
     },
     "execution_count": 14,
     "metadata": {},
     "output_type": "execute_result"
    }
   ],
   "source": [
    "function getA()\n",
    "    mmread(\"bcsstm26.mtx\")\n",
    "end"
   ]
  },
  {
   "cell_type": "code",
   "execution_count": 15,
   "metadata": {
    "scrolled": false
   },
   "outputs": [
    {
     "name": "stdout",
     "output_type": "stream",
     "text": [
      "  5.781790 seconds (1.29 M allocations: 282.725 MiB, 3.15% gc time)\n",
      "  6.785397 seconds (104.05 k allocations: 237.313 MiB, 2.79% gc time)\n",
      "  7.045895 seconds (49.08 M allocations: 1.208 GiB, 6.03% gc time)\n",
      "  7.767458 seconds (15.59 M allocations: 888.168 MiB, 4.33% gc time)\n"
     ]
    },
    {
     "data": {
      "image/png": "[encoded data removed]"
     },
     "execution_count": 15,
     "metadata": {},
     "output_type": "execute_result"
    }
   ],
   "source": [
    "A = getA()\n",
    "n = size(A,1)\n",
    "b = ones(Float64, n,1)\n",
    "# solve\n",
    "@time x1, history1 = solve(A, b, prolongation1(n))\n",
    "@time x2, history2 = solve(A, b, prolongation2(n))\n",
    "@time x3, history3 = solve(A, b, prolongationAggregation(A))\n",
    "@time x4, history4 = solve(A, b, prolongationReduction(getA()))\n",
    "\n",
    "# plot\n",
    "#gr()\n",
    "pyplot()\n",
    "history1data = history1.data[:resnorm]\n",
    "history2data = history2.data[:resnorm]\n",
    "history3data = history3.data[:resnorm]\n",
    "history4data = history4.data[:resnorm]\n",
    "\n",
    "plot(history1data, xlabel=\"iterations\", ylabel=\"res-norm\", label=\"simple prolongation\")\n",
    "plot!(history2data, label=\"prolongation with weights\")\n",
    "plot!(history3data, label=\"aggregation-based prolongation\")\n",
    "plot!(history4data, label=\"reduction-based prolongation\")\n",
    "#savefig(\"prolongations.png\")"
   ]
  },
  {
   "cell_type": "code",
   "execution_count": null,
   "metadata": {},
   "outputs": [],
   "source": []
  }
 ],
 "metadata": {
  "kernelspec": {
   "display_name": "Julia 0.6.2",
   "language": "julia",
   "name": "julia-0.6"
  },
  "language_info": {
   "file_extension": ".jl",
   "mimetype": "application/julia",
   "name": "julia",
   "version": "0.6.2"
  }
 },
 "nbformat": 4,
 "nbformat_minor": 2
}
