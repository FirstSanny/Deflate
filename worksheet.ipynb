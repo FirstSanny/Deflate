{
 "cells": [
  {
   "cell_type": "code",
   "execution_count": 1,
   "metadata": {},
   "outputs": [],
   "source": [
    "using DataFrames\n"
   ]
  },
  {
   "cell_type": "code",
   "execution_count": 2,
   "metadata": {},
   "outputs": [],
   "source": [
    "using IterativeSolvers\n",
    "using Plots\n",
    "using MatrixMarket"
   ]
  },
  {
   "cell_type": "code",
   "execution_count": 3,
   "metadata": {},
   "outputs": [
    {
     "data": {
      "text/plain": [
       "prolongation1 (generic function with 1 method)"
      ]
     },
     "execution_count": 3,
     "metadata": {},
     "output_type": "execute_result"
    }
   ],
   "source": [
    "function  prolongation1(n)\n",
    "    r = floor(Int, n/2) \n",
    "    R = zeros(r,n)\n",
    "    i = 1\n",
    "    j = 1\n",
    "    while i ≤ r \n",
    "        R[i,j] = 1\n",
    "        i = i + 1\n",
    "        j = j + 2\n",
    "    end\n",
    "    return R\n",
    "end"
   ]
  },
  {
   "cell_type": "code",
   "execution_count": 4,
   "metadata": {},
   "outputs": [
    {
     "data": {
      "text/plain": [
       "prolongation2 (generic function with 1 method)"
      ]
     },
     "execution_count": 4,
     "metadata": {},
     "output_type": "execute_result"
    }
   ],
   "source": [
    "function  prolongation2(n)\n",
    "    r = floor(Int, n/2)\n",
    "    R = zeros(r,n)\n",
    "    i = 1\n",
    "    j = 1\n",
    "    while i ≤ r \n",
    "        R[i,j] = 1\n",
    "        if(j+1 ≤ n)\n",
    "            R[i,j+1] = 2\n",
    "        end\n",
    "        if(j+2 ≤ n)\n",
    "            R[i,j+2] = 1\n",
    "        end\n",
    "        i = i + 1\n",
    "        j = j + 2\n",
    "    end\n",
    "    return 1/4*R\n",
    "end"
   ]
  },
  {
   "cell_type": "code",
   "execution_count": 5,
   "metadata": {},
   "outputs": [
    {
     "data": {
      "text/plain": [
       "computeTauI (generic function with 1 method)"
      ]
     },
     "execution_count": 5,
     "metadata": {},
     "output_type": "execute_result"
    }
   ],
   "source": [
    "function computeTauI(A, F, i)\n",
    "    aij = 0\n",
    "    for j ∈ F\n",
    "        aij = aij + abs(A[i,j])\n",
    "    end\n",
    "    \n",
    "    if(isempty(F))\n",
    "        return abs(A[i,i])\n",
    "    end\n",
    "    \n",
    "    return abs(A[i,i]) / aij\n",
    "end"
   ]
  },
  {
   "cell_type": "code",
   "execution_count": 6,
   "metadata": {},
   "outputs": [
    {
     "data": {
      "text/plain": [
       "Adj (generic function with 1 method)"
      ]
     },
     "execution_count": 6,
     "metadata": {},
     "output_type": "execute_result"
    }
   ],
   "source": [
    "function Adj(A, j, n)\n",
    "    Adj = Set()\n",
    "    for k = 1:n\n",
    "        if(A[j,k] != 0)\n",
    "            push!(Adj,k)\n",
    "        end\n",
    "    end\n",
    "    return Adj\n",
    "end"
   ]
  },
  {
   "cell_type": "code",
   "execution_count": 30,
   "metadata": {},
   "outputs": [
    {
     "data": {
      "text/plain": [
       "greedyCoarsing (generic function with 1 method)"
      ]
     },
     "execution_count": 30,
     "metadata": {},
     "output_type": "execute_result"
    }
   ],
   "source": [
    "function greedyCoarsing(A)\n",
    "    tau = 1\n",
    "    \n",
    "    n = size(A,1)\n",
    "    U = Set(collect(1:n))\n",
    "    F = Set()\n",
    "    C = Set()\n",
    "    TauI = zeros(n)\n",
    "    \n",
    "    for i = 1:n\n",
    "        TauI[i] = computeTauI(A,F,i)\n",
    "    end\n",
    "    \n",
    "    for i = 1:n\n",
    "        if(TauI[i] ≥ tau)\n",
    "            F = ∪(F, i)\n",
    "            U = setdiff(U, i)\n",
    "        end\n",
    "    end\n",
    "    \n",
    "    while(!isempty(U))\n",
    "        min = Inf\n",
    "        j = -1\n",
    "        for i = 1:n\n",
    "            if(!in(i,U))\n",
    "                continue\n",
    "            end\n",
    "            if(TauI[i] ≤ min)\n",
    "                min = TauI[i]\n",
    "                j = i\n",
    "            end\n",
    "        end\n",
    "        C = ∪(C, j)\n",
    "        U = setdiff(U,j)\n",
    "        for i ∈ ∩(U, Adj(A,j,n))\n",
    "            TauI[i] = computeTauI(A,F,i)\n",
    "            F = ∪(F, i)\n",
    "            U = setdiff(U, i)\n",
    "        end\n",
    "    end  \n",
    "    return F, C, TauI\n",
    "end"
   ]
  },
  {
   "cell_type": "code",
   "execution_count": 24,
   "metadata": {},
   "outputs": [
    {
     "data": {
      "text/plain": [
       "prolongationReduction (generic function with 1 method)"
      ]
     },
     "execution_count": 24,
     "metadata": {},
     "output_type": "execute_result"
    }
   ],
   "source": [
    "function prolongationReduction(A)\n",
    "    n = size(A,1)\n",
    "    \n",
    "    F, C, TauI = greedyCoarsing(A)\n",
    "    i, index = findmax(F)\n",
    "    D1 = -1*inv(Diagonal(A[1:i,1:i]))\n",
    "    TopMatrix = hcat(D1, A[1:i,(i+1):n])\n",
    "    return full(transpose(vcat(TopMatrix, hcat(zeros(n-i,i),eye(n-i,n-i)))))\n",
    "end"
   ]
  },
  {
   "cell_type": "code",
   "execution_count": 25,
   "metadata": {},
   "outputs": [
    {
     "data": {
      "text/plain": [
       "4×4 Array{Float64,2}:\n",
       " -1.0   0.0        0.0  0.0\n",
       "  0.0  -0.166667   0.0  0.0\n",
       "  0.0   0.0       -1.0  0.0\n",
       "  4.0   0.0        0.0  1.0"
      ]
     },
     "execution_count": 25,
     "metadata": {},
     "output_type": "execute_result"
    }
   ],
   "source": [
    "A=[1 2 3 4; 5 6 7 0; 0 0 1 0; 2 0 1 0]\n",
    "prolongationReduction(A)"
   ]
  },
  {
   "cell_type": "code",
   "execution_count": 26,
   "metadata": {},
   "outputs": [
    {
     "data": {
      "text/plain": [
       "prolongationAggregation (generic function with 1 method)"
      ]
     },
     "execution_count": 26,
     "metadata": {},
     "output_type": "execute_result"
    }
   ],
   "source": [
    "function prolongationAggregation(A)\n",
    "    # Init\n",
    "    n = size(A,1)\n",
    "    U = Set(collect(1:n))\n",
    "    W = Set()\n",
    "    V = Set()\n",
    "    tau = 0.25\n",
    "    q = 0\n",
    "    \n",
    "    # Start Computing\n",
    "    while true\n",
    "        q = q + 1\n",
    "        \n",
    "        # find u \n",
    "        u = -1\n",
    "        for localU ∈ U\n",
    "            if(!in(localU,W))\n",
    "                u = localU\n",
    "                #println(\"Knoten $u in Iteration $q\")\n",
    "                break\n",
    "            end\n",
    "        end\n",
    "        # Break if no u can be found\n",
    "        if(u == -1)\n",
    "            break\n",
    "        end\n",
    "            \n",
    "        \n",
    "        # Compute NiCTau\n",
    "        NiCTau = Set()\n",
    "        for j = 1:n\n",
    "            if( (A[u,j] != 0) & ( sqrt(A[u,j]^2/abs(A[u,u]*A[j,j])) ≥ tau ))\n",
    "                push!(NiCTau, j)\n",
    "            end\n",
    "        end\n",
    "        NiCTau = setdiff(NiCTau, W)\n",
    "        #println(\"Nahe Nachbarn $NiCTau in Iteration $q\")\n",
    "        \n",
    "        # Compute Vq\n",
    "        Vq = Set()\n",
    "        if(length(NiCTau) == 2)\n",
    "            #println(\"Nur nahe Nachbarn in Iteration $q\")\n",
    "            push!(NiCTau, u)\n",
    "            Vq = NiCTau\n",
    "            push!(V, Vq)\n",
    "        else\n",
    "            # Compute NiDTau\n",
    "            NiDTau = Set()\n",
    "            for i = 1:n\n",
    "                \n",
    "                isDistantNeighbor = 1\n",
    "                for j in NiCTau\n",
    "                    if( (A[i,j] == 0) | ( sqrt(A[i,j]^2/abs(A[i,i]*A[j,j])) < tau ))\n",
    "                        isDistantNeighbor = 0\n",
    "                    end\n",
    "                end\n",
    "                if(isDistantNeighbor == 1)\n",
    "                    push!(NiDTau, i)\n",
    "                end\n",
    "            end\n",
    "            #println(\"Distante Nachbarn $NiCTau in Iteration $q\")\n",
    "            push!(NiCTau, u)\n",
    "            Vq = ∪(NiCTau, NiDTau)\n",
    "            push!(V, Vq)\n",
    "        end\n",
    "        \n",
    "        # Set W and U\n",
    "        W = ∪(W, Vq)\n",
    "        #println(\"W in Iteration $q ist $W\")\n",
    "        U = setdiff(U,Vq)\n",
    "        #println(\"U in Iteration $q ist $U\")\n",
    "        \n",
    "        # Break if there are no more entries in U\n",
    "        if(length(U) == 0)\n",
    "            break\n",
    "        end\n",
    "    end\n",
    "    \n",
    "    #println(\"V Vektoren $V\")\n",
    "    \n",
    "    Z = zeros(q,n)\n",
    "    # Compute Interpolation-Matrix\n",
    "    for i = 1:q\n",
    "        Vq = pop!(V)\n",
    "        #println(\"Vq in Iteration $j ist $Vq\")\n",
    "        for j = 1:n\n",
    "            if(in(j, Vq))\n",
    "                Z[i,j] = 1\n",
    "            end\n",
    "        end \n",
    "    end\n",
    "    return Z\n",
    "    \n",
    "end"
   ]
  },
  {
   "cell_type": "code",
   "execution_count": 27,
   "metadata": {},
   "outputs": [
    {
     "data": {
      "text/plain": [
       "solve (generic function with 1 method)"
      ]
     },
     "execution_count": 27,
     "metadata": {},
     "output_type": "execute_result"
    }
   ],
   "source": [
    "# Solves the System Ax=b with de Deflation-Operator R\n",
    "function solve(A, b, R)\n",
    "    n = size(A,1)\n",
    "    \n",
    "    P = transpose(R)\n",
    "    \n",
    "    PAR = P*inv(R*A*P)*R\n",
    "    \n",
    "    PN = I - A * PAR + PAR\n",
    "    \n",
    "    gmres(A, b; tol = 0.0001, Pl = lufact(PN), log = true)   \n",
    "end"
   ]
  },
  {
   "cell_type": "code",
   "execution_count": 28,
   "metadata": {},
   "outputs": [
    {
     "data": {
      "text/plain": [
       "getA (generic function with 1 method)"
      ]
     },
     "execution_count": 28,
     "metadata": {},
     "output_type": "execute_result"
    }
   ],
   "source": [
    "function getA()\n",
    "    mmread(\"bcsstm26.mtx\")\n",
    "end"
   ]
  },
  {
   "cell_type": "code",
   "execution_count": 31,
   "metadata": {
    "scrolled": false
   },
   "outputs": [
    {
     "name": "stdout",
     "output_type": "stream",
     "text": [
      "  4.382289 seconds (68.08 k allocations: 221.141 MiB, 3.35% gc time)\n",
      "  7.011852 seconds (68.08 k allocations: 235.717 MiB, 3.10% gc time)\n",
      "  7.192338 seconds (48.99 M allocations: 1.203 GiB, 6.98% gc time)\n",
      "Any[1199, 1200, 1201, 1301, 1302, 1303, 1307, 1308, 1309, 1397, 1398, 1399]\n",
      "Any[517, 1107, 1341, 686, 685, 684, 1083, 589, 847, 1239, 1106, 1108, 1340, 1238, 1511, 1342, 1240, 1359, 1626, 1625, 1624, 968, 967, 966, 1078, 1077, 1076, 1330, 1329, 1328, 392, 391, 390, 1137, 1904, 1903, 1902, 1631, 588, 1082, 1084, 590, 518, 516, 150, 149, 148, 1336, 1335, 1334, 1288, 1287, 1286, 120, 119, 118, 1796, 1795, 1794, 1018, 1017, 1016, 752, 751, 750, 1674, 1673, 1672, 374, 373, 372, 812, 811, 810, 1916, 1915, 1914, 914, 913, 912, 203, 692, 691, 690, 806, 805, 804, 228, 227, 226, 248, 247, 246, 548, 547, 546, 192, 191, 190, 1698, 1697, 1696, 464, 463, 462, 541, 1275, 284, 282, 458, 457, 456, 1276, 1274, 920, 919, 918, 1282, 1281, 1280, 1372, 1371, 1370, 168, 167, 166, 540, 1408, 1407, 1406, 542, 12, 283, 278, 277, 276, 494, 493, 492, 506, 505, 504, 512, 511, 510, 794, 793, 792, 1036, 1035, 1034, 337, 332, 331, 330, 860, 859, 858, 974, 973, 972, 722, 721, 720, 42, 41, 40, 66, 174, 704, 703, 702, 180, 578, 577, 576, 1548, 1547, 1546, 1476, 1475, 1474, 11, 367, 566, 565, 564, 1234, 1232, 10, 204, 202, 1494, 1493, 1492, 1808, 1807, 1806, 1536, 1535, 1534, 1172, 782, 781, 780, 848, 846, 320, 319, 318, 758, 757, 756, 1754, 1753, 1752, 1656, 1655, 1654, 446, 445, 444, 1512, 1358, 1510, 338, 336, 1360, 385, 1632, 379, 734, 733, 732, 1136, 1500, 1499, 1498, 1630, 440, 439, 438, 650, 649, 648, 1138, 380, 378, 1710, 1709, 1708, 890, 889, 888, 1029, 1748, 1747, 1746, 1776, 398, 396, 1317, 944, 942, 1168, 1167, 1166, 30, 1233, 1316, 65, 1318, 955, 156, 155, 154, 1102, 1100, 368, 366, 210, 1030, 1028, 222, 220, 1426, 1424, 64, 954, 830, 828, 234, 233, 232, 956, 108, 866, 173, 596, 595, 594, 397, 1174, 1173, 434, 432, 1452, 1451, 1450, 1292, 172, 829, 662, 661, 660, 308, 198, 197, 196, 179, 602, 600, 931, 938, 178, 162, 160, 936, 290, 288, 1444, 1442, 932, 208, 930, 386, 384, 764, 762, 1220, 1764, 949, 1222, 90, 89, 88, 950, 948, 1264, 70, 252, 770, 769, 768, 216, 214, 763, 943, 130, 872, 870, 990, 107, 1458, 1457, 1456, 60, 1425, 1156, 106, 36, 852, 306, 668, 666, 215, 1618, 601, 871, 161, 289, 1186, 1185, 1184, 1662, 1660, 221, 410, 409, 408, 632, 254, 307, 775, 350, 854, 1524, 1523, 1522, 124, 1294, 1293, 6, 776, 266, 265, 264, 132, 131, 774, 864, 348, 1180, 1179, 1178, 1826, 1825, 1824, 1101, 52, 1772, 1771, 1770, 667, 344, 342, 470, 5, 992, 1396, 1394, 1262, 4, 786, 433, 925, 788, 630, 209, 680, 679, 678, 480, 500, 499, 498, 1601, 924, 76, 1614, 1613, 126, 125, 35, 1554, 1553, 1552, 1443, 926, 1661, 937, 144, 404, 34, 302, 1161, 402, 1395, 54, 1419, 296, 300, 294, 1420, 403, 1612, 554, 1577, 1154, 1162, 1160, 314, 1600, 1602, 1418, 552, 78, 77, 270, 1679, 1090, 1088, 1638, 1637, 1636, 253, 1024, 1778, 414, 1898, 1354, 1352, 624, 656, 654, 1832, 1831, 1830, 853, 1221, 469, 53, 260, 1583, 818, 468, 1758, 343, 1678, 1680, 1096, 1095, 1094, 816, 787, 1784, 1783, 1782, 1842, 708, 1880, 584, 582, 1390, 1576, 1366, 1364, 1578, 1790, 1789, 1788, 614, 422, 636, 865, 638, 1766, 1759, 238, 1844, 1346, 608, 184, 301, 356, 606, 295, 655, 349, 258, 312, 1760, 710, 991, 744, 1530, 746, 1388, 420, 800, 798, 1389, 1584, 354, 631, 1854, 1348, 1582, 530, 1702, 1468, 626, 1470, 1150, 259, 1268, 1155, 644, 1820, 1819, 1818, 1469, 1843, 1436, 1856, 1438, 1777, 572, 570, 817, 416, 709, 1353, 1263, 313, 637, 528, 1256, 571, 1300, 1298, 100, 1258, 560, 583, 1089, 1644, 1148, 620, 619, 618, 1299, 558, 1022, 1004, 553, 1860, 29, 28, 1736, 1735, 1734, 1432, 1430, 1855, 1765, 1886, 1885, 1884, 1437, 799, 1716, 1715, 1714, 136, 536, 535, 534, 745, 529, 1365, 980, 979, 978, 1059, 1802, 1801, 1800, 1862, 1922, 1257, 46, 59, 58, 1244, 1910, 1620, 94, 1149, 421, 840, 607, 1006, 1812, 1836, 625, 1892, 1890, 355, 559, 1246, 1920, 1848, 1214, 1619, 1228, 1226, 1227, 360, 842, 1908, 1542, 1541, 1540, 715, 24, 1431, 714, 716, 1197, 1270, 1849, 1850, 1382, 415, 1666, 834, 740, 738, 906, 1891, 908, 1861, 878, 877, 876, 1072, 524, 523, 522, 673, 1347, 674, 672, 1608, 836, 1590, 1112, 1005, 1023, 1216, 1070, 1114, 1921, 1704, 482, 240, 1376, 1909, 1724, 1723, 1722, 962, 961, 960, 1896, 1642, 1384, 324, 907, 1897, 272, 1692, 1691, 1690, 1703, 1878, 1566, 1565, 1564, 112, 1879, 1118, 1488, 1487, 1486, 1071, 96, 426, 428, 1113, 1130, 824, 822, 138, 739, 823, 1414, 1413, 1412, 239, 1132, 728, 726, 1378, 481, 1516, 452, 1462, 835, 362, 998, 271, 727, 1686, 1684, 1518, 1464, 1868, 1120, 1269, 1606, 427, 1245, 902, 900, 841, 1668, 884, 1740, 1324, 1322, 1323, 137, 1383, 984, 488, 1741, 1588, 1742, 486, 476, 95, 1463, 1685, 1667, 986, 1000, 143, 142, 696, 326, 72, 48, 71, 1250, 1572, 1506, 1504, 985, 901, 1728, 1570, 698, 1560, 1874, 1252, 1047, 1643, 1010, 1648, 487, 1215, 361, 1866, 84, 1012, 1126, 186, 1505, 1814, 1838, 185, 1124, 47, 325, 1517, 1529, 1528, 1650, 1607, 612, 18, 1142, 1377, 1011, 1730, 642, 1596, 1558, 82, 1729, 1144, 613, 1872, 1571, 697, 1131, 882, 643, 895, 1589, 1119, 1813, 1837, 999, 1481, 1867, 114, 1143, 474, 450, 1559, 1649, 1251, 883, 22, 113, 1125, 23, 1873, 102, 83, 101, 16, 1594, 1041, 451, 475, 1595, 17, 1105, 1104, 1103, 1065, 1339, 1338, 1337, 1209, 1237, 1236, 1235, 515, 514, 513, 1081, 1080, 1079, 587, 586, 585, 1191, 683, 682, 681, 1060, 1058, 1198, 1196, 1204, 1048, 1046, 1042, 1482, 1480, 894, 896, 1040, 1053, 845, 844, 843, 1304, 1064, 1509, 1508, 1507, 1208, 1357, 1356, 1355, 1066, 1210, 1629, 1628, 1627, 1135, 1134, 1133, 1190, 1054, 1192, 1202, 1052, 1306, 1623, 1622, 1621, 965, 964, 963, 1400, 1310, 1075, 1074, 1073, 1312, 1327, 1326, 1325, 1203, 1305, 389, 388, 387, 1901, 1900, 1899, 1402, 1311, 1401, 147, 146, 145, 1333, 1332, 1331, 1285, 1284, 1283, 117, 116, 115, 1793, 1792, 1791, 1015, 1014, 1013, 749, 748, 747, 1671, 1670, 1669, 371, 370, 369, 809, 808, 807, 1913, 1912, 1911, 911, 910, 909, 201, 200, 199, 689, 688, 687, 803, 802, 801, 225, 224, 223, 245, 244, 243, 545, 544, 543, 189, 188, 187, 1695, 1694, 1693, 461, 460, 459, 539, 538, 537, 1273, 1272, 1271, 281, 280, 279, 455, 454, 453, 917, 916, 915, 1279, 1278, 1277, 1369, 1368, 1367, 165, 164, 163, 1405, 1404, 1403, 9, 8, 7, 275, 274, 273, 491, 490, 489, 503, 502, 501, 509, 508, 507, 791, 790, 789, 1033, 1032, 1031, 335, 334, 333, 329, 328, 327, 857, 856, 855, 971, 970, 969, 719, 718, 717, 39, 38, 37, 63, 62, 61, 171, 170, 169, 701, 700, 699, 177, 176, 175, 575, 574, 573, 1545, 1544, 1543, 1473, 1472, 1471, 365, 364, 363, 563, 562, 561, 1231, 1230, 1229, 1491, 1490, 1489, 1805, 1804, 1803, 1533, 1532, 1531, 1171, 1170, 1169, 779, 778, 777, 317, 316, 315, 755, 754, 753, 1751, 1750, 1749, 1653, 1652, 1651, 443, 442, 441, 383, 382, 381, 377, 376, 375, 731, 730, 729, 1497, 1496, 1495, 437, 436, 435, 647, 646, 645, 1707, 1706, 1705, 887, 886, 885, 1027, 1026, 1025, 1745, 1744, 1743, 1775, 1774, 1773, 395, 394, 393, 1315, 1314, 1313, 941, 940, 939, 1165, 1164, 1163, 27, 26, 25, 953, 952, 951, 153, 152, 151, 1099, 1098, 1097, 207, 206, 205, 219, 218, 217, 1423, 1422, 1421, 827, 826, 825, 231, 230, 229, 105, 104, 103, 863, 862, 861, 593, 592, 591, 431, 430, 429, 1449, 1448, 1447, 1291, 1290, 1289, 659, 658, 657, 305, 304, 303, 935, 934, 933, 195, 194, 193, 599, 598, 597, 929, 928, 927, 159, 158, 157, 287, 286, 285, 851, 850, 849, 1219, 1218, 1217, 1441, 1440, 1439, 761, 760, 759, 1763, 1762, 1761, 947, 946, 945, 87, 86, 85, 1261, 1260, 1259, 69, 68, 67, 251, 250, 249, 767, 766, 765, 213, 212, 211, 129, 128, 127, 869, 868, 867, 989, 988, 987, 1455, 1454, 1453, 57, 56, 55, 1153, 1152, 1151, 33, 32, 31, 665, 664, 663, 1617, 1616, 1615, 1183, 1182, 1181, 1659, 1658, 1657, 407, 406, 405, 629, 628, 627, 773, 772, 771, 347, 346, 345, 1521, 1520, 1519, 123, 122, 121, 3, 2, 1, 1718, 1717, 242, 241, 994, 993, 263, 262, 261, 1446, 1445, 1177, 1176, 1175, 1823, 1822, 1821, 51, 50, 49, 1769, 1768, 1767, 785, 784, 783, 341, 340, 339, 467, 466, 465, 1393, 1392, 1391, 923, 922, 921, 677, 676, 675, 479, 478, 477, 401, 400, 399, 497, 496, 495, 1599, 1598, 1597, 75, 74, 73, 1611, 1610, 1609, 299, 298, 297, 1551, 1550, 1549, 141, 140, 139, 293, 292, 291, 1159, 1158, 1157, 1575, 1574, 1573, 1417, 1416, 1415, 311, 310, 309, 551, 550, 549, 1641, 1640, 1639, 257, 256, 255, 269, 268, 267, 1677, 1676, 1675, 1087, 1086, 1085, 1635, 1634, 1633, 1021, 1020, 1019, 1581, 1580, 1579, 413, 412, 411, 1895, 1894, 1893, 1351, 1350, 1349, 623, 622, 621, 653, 652, 651, 1829, 1828, 1827, 1267, 1266, 1265, 815, 814, 813, 1757, 1756, 1755, 1093, 1092, 1091, 839, 838, 837, 1781, 1780, 1779, 1841, 1840, 1839, 707, 706, 705, 1877, 1876, 1875, 581, 580, 579, 1387, 1386, 1385, 1435, 1434, 1433, 1363, 1362, 1361, 1787, 1786, 1785, 611, 610, 609, 419, 418, 417, 635, 634, 633, 1345, 1344, 1343, 1255, 1254, 1253, 1467, 1466, 1465, 237, 236, 235, 605, 604, 603, 183, 182, 181, 353, 352, 351, 1213, 1212, 1211, 743, 742, 741, 1527, 1526, 1525, 527, 526, 525, 797, 796, 795, 1853, 1852, 1851, 1003, 1002, 1001, 1701, 1700, 1699, 1429, 1428, 1427, 1147, 1146, 1145, 641, 640, 639, 1817, 1816, 1815, 569, 568, 567, 1297, 1296, 1295, 99, 98, 97, 557, 556, 555, 93, 92, 91, 617, 616, 615, 1605, 1604, 1603, 1859, 1858, 1857, 1733, 1732, 1731, 1883, 1882, 1881, 1713, 1712, 1711, 359, 358, 357, 135, 134, 133, 533, 532, 531, 1129, 1128, 1127, 977, 976, 975, 1057, 1056, 1055, 1799, 1798, 1797, 1919, 1918, 1917, 1243, 1242, 1241, 1811, 1810, 1809, 1835, 1834, 1833, 45, 44, 43, 1907, 1906, 1905, 1587, 1586, 1585, 21, 20, 19, 1889, 1888, 1887, 1117, 1116, 1115, 1847, 1846, 1845, 1195, 1194, 1193, 1375, 1374, 1373, 1225, 1224, 1223, 1539, 1538, 1537, 713, 712, 711, 833, 832, 831, 1665, 1664, 1663, 997, 996, 995, 1249, 1248, 1247, 1381, 1380, 1379, 737, 736, 735, 905, 904, 903, 875, 874, 873, 473, 472, 471, 1069, 1068, 1067, 521, 520, 519, 671, 670, 669, 449, 448, 447, 323, 322, 321, 81, 80, 79, 1111, 1110, 1109, 1721, 1720, 1719, 1865, 1864, 1863, 959, 958, 957, 1689, 1688, 1687, 1563, 1562, 1561, 111, 110, 109, 1485, 1484, 1483, 425, 424, 423, 821, 820, 819, 15, 14, 13, 1411, 1410, 1409, 725, 724, 723, 1515, 1514, 1513, 1461, 1460, 1459, 1683, 1682, 1681, 899, 898, 897, 881, 880, 879, 1739, 1738, 1737, 1321, 1320, 1319, 1557, 1556, 1555, 983, 982, 981, 1871, 1870, 1869, 485, 484, 483, 1123, 1122, 1121, 1189, 1188, 1187, 695, 694, 693, 1009, 1008, 1007, 1569, 1568, 1567, 1503, 1502, 1501, 1727, 1726, 1725, 1045, 1044, 1043, 1647, 1646, 1645, 1063, 1062, 1061, 1593, 1592, 1591, 1207, 1206, 1205, 1051, 1050, 1049, 1039, 1038, 1037, 1141, 1140, 1139, 1479, 1478, 1477, 893, 892, 891]\n"
     ]
    },
    {
     "name": "stdout",
     "output_type": "stream",
     "text": [
      "  7.837314 seconds (15.51 M allocations: 841.814 MiB, 4.98% gc time)\n"
     ]
    },
    {
     "data": {
      "image/png": "[encoded data removed]"
     },
     "execution_count": 31,
     "metadata": {},
     "output_type": "execute_result"
    }
   ],
   "source": [
    "A = getA()\n",
    "n = size(A,1)\n",
    "b = ones(Float64, n,1)\n",
    "# solve\n",
    "@time x1, history1 = solve(A, b, prolongation1(n))\n",
    "@time x2, history2 = solve(A, b, prolongation2(n))\n",
    "@time x3, history3 = solve(A, b, prolongationAggregation(A))\n",
    "@time x4, history4 = solve(A, b, prolongationReduction(A))\n",
    "\n",
    "# plot\n",
    "#gr()\n",
    "pyplot()\n",
    "history1data = history1.data[:resnorm]\n",
    "history2data = history2.data[:resnorm]\n",
    "history3data = history3.data[:resnorm]\n",
    "history4data = history4.data[:resnorm]\n",
    "\n",
    "plot(history1data, xlabel=\"iterations\", ylabel=\"res-norm\", label=\"simple prolongation\")\n",
    "plot!(history2data, label=\"prolongation with weights\")\n",
    "plot!(history3data, label=\"aggregation-based prolongation\")\n",
    "plot!(history4data, label=\"reduction-based prolongation\")\n",
    "#savefig(\"prolongations.png\")"
   ]
  },
  {
   "cell_type": "code",
   "execution_count": null,
   "metadata": {},
   "outputs": [],
   "source": []
  }
 ],
 "metadata": {
  "kernelspec": {
   "display_name": "Julia 0.6.2",
   "language": "julia",
   "name": "julia-0.6"
  },
  "language_info": {
   "file_extension": ".jl",
   "mimetype": "application/julia",
   "name": "julia",
   "version": "0.6.2"
  }
 },
 "nbformat": 4,
 "nbformat_minor": 2
}
