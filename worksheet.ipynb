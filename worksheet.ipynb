{
 "cells": [
  {
   "cell_type": "code",
   "execution_count": 31,
   "metadata": {},
   "outputs": [
    {
     "data": {
      "text/plain": [
       "prolongation1 (generic function with 1 method)"
      ]
     },
     "execution_count": 31,
     "metadata": {},
     "output_type": "execute_result"
    }
   ],
   "source": [
    "function  prolongation1(n)\n",
    "    r = ceil(n/2) \n",
    "    R = zeros(r,n)\n",
    "    i = 1\n",
    "    j = 1\n",
    "    while i <= r \n",
    "        R[i,j] = 1\n",
    "        i = i + 1\n",
    "        j = j + 2\n",
    "    end\n",
    "    return R\n",
    "end"
   ]
  },
  {
   "cell_type": "code",
   "execution_count": 32,
   "metadata": {},
   "outputs": [
    {
     "data": {
      "text/plain": [
       "7×14 Array{Float64,2}:\n",
       " 1.0  0.0  0.0  0.0  0.0  0.0  0.0  0.0  0.0  0.0  0.0  0.0  0.0  0.0\n",
       " 0.0  0.0  1.0  0.0  0.0  0.0  0.0  0.0  0.0  0.0  0.0  0.0  0.0  0.0\n",
       " 0.0  0.0  0.0  0.0  1.0  0.0  0.0  0.0  0.0  0.0  0.0  0.0  0.0  0.0\n",
       " 0.0  0.0  0.0  0.0  0.0  0.0  1.0  0.0  0.0  0.0  0.0  0.0  0.0  0.0\n",
       " 0.0  0.0  0.0  0.0  0.0  0.0  0.0  0.0  1.0  0.0  0.0  0.0  0.0  0.0\n",
       " 0.0  0.0  0.0  0.0  0.0  0.0  0.0  0.0  0.0  0.0  1.0  0.0  0.0  0.0\n",
       " 0.0  0.0  0.0  0.0  0.0  0.0  0.0  0.0  0.0  0.0  0.0  0.0  1.0  0.0"
      ]
     },
     "execution_count": 32,
     "metadata": {},
     "output_type": "execute_result"
    }
   ],
   "source": [
    "prolongation1(14)"
   ]
  },
  {
   "cell_type": "code",
   "execution_count": 42,
   "metadata": {
    "scrolled": true
   },
   "outputs": [
    {
     "data": {
      "text/plain": [
       "8×15 Array{Float64,2}:\n",
       " 1.0  0.0  0.0  0.0  0.0  0.0  0.0  0.0  0.0  0.0  0.0  0.0  0.0  0.0  0.0\n",
       " 0.0  0.0  1.0  0.0  0.0  0.0  0.0  0.0  0.0  0.0  0.0  0.0  0.0  0.0  0.0\n",
       " 0.0  0.0  0.0  0.0  1.0  0.0  0.0  0.0  0.0  0.0  0.0  0.0  0.0  0.0  0.0\n",
       " 0.0  0.0  0.0  0.0  0.0  0.0  1.0  0.0  0.0  0.0  0.0  0.0  0.0  0.0  0.0\n",
       " 0.0  0.0  0.0  0.0  0.0  0.0  0.0  0.0  1.0  0.0  0.0  0.0  0.0  0.0  0.0\n",
       " 0.0  0.0  0.0  0.0  0.0  0.0  0.0  0.0  0.0  0.0  1.0  0.0  0.0  0.0  0.0\n",
       " 0.0  0.0  0.0  0.0  0.0  0.0  0.0  0.0  0.0  0.0  0.0  0.0  1.0  0.0  0.0\n",
       " 0.0  0.0  0.0  0.0  0.0  0.0  0.0  0.0  0.0  0.0  0.0  0.0  0.0  0.0  1.0"
      ]
     },
     "execution_count": 42,
     "metadata": {},
     "output_type": "execute_result"
    }
   ],
   "source": [
    "prolongation1(15)"
   ]
  },
  {
   "cell_type": "code",
   "execution_count": 33,
   "metadata": {},
   "outputs": [
    {
     "data": {
      "text/plain": [
       "prolongation2 (generic function with 1 method)"
      ]
     },
     "execution_count": 33,
     "metadata": {},
     "output_type": "execute_result"
    }
   ],
   "source": [
    "function  prolongation2(n)\n",
    "    r = ceil(n/2)\n",
    "    R = zeros(r,n)\n",
    "    i = 1\n",
    "    j = 1\n",
    "    while i <= r \n",
    "        R[i,j] = 1\n",
    "        if(j+1 <= n)\n",
    "            R[i,j+1] = 2\n",
    "        end\n",
    "        if(j+2 <= n)\n",
    "            R[i,j+2] = 1\n",
    "        end\n",
    "        i = i + 1\n",
    "        j = j + 2\n",
    "    end\n",
    "    return 1/4*R\n",
    "end"
   ]
  },
  {
   "cell_type": "code",
   "execution_count": 44,
   "metadata": {},
   "outputs": [
    {
     "data": {
      "text/plain": [
       "7×14 Array{Float64,2}:\n",
       " 0.25  0.5  0.25  0.0  0.0   0.0  0.0   0.0  0.0   0.0  0.0   0.0  0.0   0.0\n",
       " 0.0   0.0  0.25  0.5  0.25  0.0  0.0   0.0  0.0   0.0  0.0   0.0  0.0   0.0\n",
       " 0.0   0.0  0.0   0.0  0.25  0.5  0.25  0.0  0.0   0.0  0.0   0.0  0.0   0.0\n",
       " 0.0   0.0  0.0   0.0  0.0   0.0  0.25  0.5  0.25  0.0  0.0   0.0  0.0   0.0\n",
       " 0.0   0.0  0.0   0.0  0.0   0.0  0.0   0.0  0.25  0.5  0.25  0.0  0.0   0.0\n",
       " 0.0   0.0  0.0   0.0  0.0   0.0  0.0   0.0  0.0   0.0  0.25  0.5  0.25  0.0\n",
       " 0.0   0.0  0.0   0.0  0.0   0.0  0.0   0.0  0.0   0.0  0.0   0.0  0.25  0.5"
      ]
     },
     "execution_count": 44,
     "metadata": {},
     "output_type": "execute_result"
    }
   ],
   "source": [
    "prolongation2(14)"
   ]
  },
  {
   "cell_type": "code",
   "execution_count": 43,
   "metadata": {},
   "outputs": [
    {
     "data": {
      "text/plain": [
       "8×15 Array{Float64,2}:\n",
       " 0.25  0.5  0.25  0.0  0.0   0.0  0.0   …  0.0  0.0   0.0  0.0   0.0  0.0 \n",
       " 0.0   0.0  0.25  0.5  0.25  0.0  0.0      0.0  0.0   0.0  0.0   0.0  0.0 \n",
       " 0.0   0.0  0.0   0.0  0.25  0.5  0.25     0.0  0.0   0.0  0.0   0.0  0.0 \n",
       " 0.0   0.0  0.0   0.0  0.0   0.0  0.25     0.0  0.0   0.0  0.0   0.0  0.0 \n",
       " 0.0   0.0  0.0   0.0  0.0   0.0  0.0      0.5  0.25  0.0  0.0   0.0  0.0 \n",
       " 0.0   0.0  0.0   0.0  0.0   0.0  0.0   …  0.0  0.25  0.5  0.25  0.0  0.0 \n",
       " 0.0   0.0  0.0   0.0  0.0   0.0  0.0      0.0  0.0   0.0  0.25  0.5  0.25\n",
       " 0.0   0.0  0.0   0.0  0.0   0.0  0.0      0.0  0.0   0.0  0.0   0.0  0.25"
      ]
     },
     "execution_count": 43,
     "metadata": {},
     "output_type": "execute_result"
    }
   ],
   "source": [
    "prolongation2(15)"
   ]
  },
  {
   "cell_type": "code",
   "execution_count": 37,
   "metadata": {},
   "outputs": [
    {
     "data": {
      "text/plain": [
       "solve (generic function with 1 method)"
      ]
     },
     "execution_count": 37,
     "metadata": {},
     "output_type": "execute_result"
    }
   ],
   "source": [
    "# Solves the System Ax=b with de Deflation-Operator R\n",
    "function solve(A, b, R)\n",
    "    # Compute A = M - N\n",
    "    n= size(A,1)\n",
    "    x = ones(n)\n",
    "    \n",
    "    M = Diagonal(A)\n",
    "    M1 = M^(-1)\n",
    "    N = M - A\n",
    "    \n",
    "    I = eye(n)\n",
    "    S = I - M1*A\n",
    "    P = transpose(R)\n",
    "    PAR = (P*(R*A*P)^(-1)*R)\n",
    "    T = S * (I - PAR) * S\n",
    "    while(norm(b-A*x)>0.1)\n",
    "        x = (M1 * N * x) + (M1 * b)\n",
    "        x = T*x + PAR*b\n",
    "    end\n",
    "    x\n",
    "end"
   ]
  },
  {
   "cell_type": "code",
   "execution_count": 41,
   "metadata": {
    "scrolled": true
   },
   "outputs": [
    {
     "ename": "LoadError",
     "evalue": "\u001b[91mBase.LinAlg.SingularException(2)\u001b[39m",
     "output_type": "error",
     "traceback": [
      "\u001b[91mBase.LinAlg.SingularException(2)\u001b[39m",
      "",
      "Stacktrace:",
      " [1] \u001b[1minv!\u001b[22m\u001b[22m at \u001b[1m.\\linalg\\lu.jl:308\u001b[22m\u001b[22m [inlined]",
      " [2] \u001b[1minv\u001b[22m\u001b[22m\u001b[1m(\u001b[22m\u001b[22m::Base.LinAlg.LU{Float64,Array{Float64,2}}\u001b[1m)\u001b[22m\u001b[22m at \u001b[1m.\\linalg\\lu.jl:310\u001b[22m\u001b[22m",
      " [3] \u001b[1minv\u001b[22m\u001b[22m\u001b[1m(\u001b[22m\u001b[22m::Array{Float64,2}\u001b[1m)\u001b[22m\u001b[22m at \u001b[1m.\\linalg\\dense.jl:659\u001b[22m\u001b[22m",
      " [4] \u001b[1m^\u001b[22m\u001b[22m at \u001b[1m.\\linalg\\dense.jl:332\u001b[22m\u001b[22m [inlined]",
      " [5] \u001b[1mliteral_pow\u001b[22m\u001b[22m at \u001b[1m.\\intfuncs.jl:208\u001b[22m\u001b[22m [inlined]",
      " [6] \u001b[1msolve\u001b[22m\u001b[22m\u001b[1m(\u001b[22m\u001b[22m::Array{Float64,2}, ::Array{Float64,1}, ::Array{Float64,2}\u001b[1m)\u001b[22m\u001b[22m at \u001b[1m.\\In[37]:14\u001b[22m\u001b[22m",
      " [7] \u001b[1minclude_string\u001b[22m\u001b[22m\u001b[1m(\u001b[22m\u001b[22m::String, ::String\u001b[1m)\u001b[22m\u001b[22m at \u001b[1m.\\loading.jl:522\u001b[22m\u001b[22m"
     ]
    }
   ],
   "source": [
    "A = [1. 2. 3.; 1. 2. 3.; 1. 2. 3.]\n",
    "solve(A, [1.;1.;1.], prolongation1(size(A,1)))"
   ]
  },
  {
   "cell_type": "code",
   "execution_count": null,
   "metadata": {},
   "outputs": [],
   "source": []
  }
 ],
 "metadata": {
  "kernelspec": {
   "display_name": "Julia 0.6.2",
   "language": "julia",
   "name": "julia-0.6"
  },
  "language_info": {
   "file_extension": ".jl",
   "mimetype": "application/julia",
   "name": "julia",
   "version": "0.6.2"
  }
 },
 "nbformat": 4,
 "nbformat_minor": 2
}
