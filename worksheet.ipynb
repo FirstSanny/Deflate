{
 "cells": [
  {
   "cell_type": "code",
   "execution_count": 86,
   "metadata": {},
   "outputs": [
    {
     "data": {
      "text/plain": [
       "prolongation1 (generic function with 1 method)"
      ]
     },
     "execution_count": 86,
     "metadata": {},
     "output_type": "execute_result"
    }
   ],
   "source": [
    "function  prolongation1(n)\n",
    "    r = ceil(n/2) \n",
    "    println(r)\n",
    "    R = zeros(r,n)\n",
    "    i = 1\n",
    "    j = 1\n",
    "    while i <= r \n",
    "        R[i,j] = 1\n",
    "        i = i + 1\n",
    "        j = j + 2\n",
    "    end\n",
    "    return R\n",
    "end"
   ]
  },
  {
   "cell_type": "code",
   "execution_count": 87,
   "metadata": {},
   "outputs": [
    {
     "name": "stdout",
     "output_type": "stream",
     "text": [
      "7.0\n"
     ]
    },
    {
     "data": {
      "text/plain": [
       "7×14 Array{Float64,2}:\n",
       " 1.0  0.0  0.0  0.0  0.0  0.0  0.0  0.0  0.0  0.0  0.0  0.0  0.0  0.0\n",
       " 0.0  0.0  1.0  0.0  0.0  0.0  0.0  0.0  0.0  0.0  0.0  0.0  0.0  0.0\n",
       " 0.0  0.0  0.0  0.0  1.0  0.0  0.0  0.0  0.0  0.0  0.0  0.0  0.0  0.0\n",
       " 0.0  0.0  0.0  0.0  0.0  0.0  1.0  0.0  0.0  0.0  0.0  0.0  0.0  0.0\n",
       " 0.0  0.0  0.0  0.0  0.0  0.0  0.0  0.0  1.0  0.0  0.0  0.0  0.0  0.0\n",
       " 0.0  0.0  0.0  0.0  0.0  0.0  0.0  0.0  0.0  0.0  1.0  0.0  0.0  0.0\n",
       " 0.0  0.0  0.0  0.0  0.0  0.0  0.0  0.0  0.0  0.0  0.0  0.0  1.0  0.0"
      ]
     },
     "execution_count": 87,
     "metadata": {},
     "output_type": "execute_result"
    }
   ],
   "source": [
    "prolongation1(14)"
   ]
  },
  {
   "cell_type": "code",
   "execution_count": 95,
   "metadata": {},
   "outputs": [
    {
     "data": {
      "text/plain": [
       "prolongation2 (generic function with 1 method)"
      ]
     },
     "execution_count": 95,
     "metadata": {},
     "output_type": "execute_result"
    }
   ],
   "source": [
    "function  prolongation2(n)\n",
    "    r = ceil(n/2)\n",
    "    R = zeros(r,n)\n",
    "    i = 1\n",
    "    j = 1\n",
    "    while i <= r \n",
    "        R[i,j] = 1\n",
    "        if(j+1 <= n)\n",
    "            R[i,j+1] = 2\n",
    "        end\n",
    "        if(j+2 <= n)\n",
    "            R[i,j+2] = 1\n",
    "        end\n",
    "        i = i + 1\n",
    "        j = j + 2\n",
    "    end\n",
    "    return 1/4*R\n",
    "end"
   ]
  },
  {
   "cell_type": "code",
   "execution_count": 97,
   "metadata": {},
   "outputs": [
    {
     "data": {
      "text/plain": [
       "8×15 Array{Float64,2}:\n",
       " 0.25  0.5  0.25  0.0  0.0   0.0  0.0   …  0.0  0.0   0.0  0.0   0.0  0.0 \n",
       " 0.0   0.0  0.25  0.5  0.25  0.0  0.0      0.0  0.0   0.0  0.0   0.0  0.0 \n",
       " 0.0   0.0  0.0   0.0  0.25  0.5  0.25     0.0  0.0   0.0  0.0   0.0  0.0 \n",
       " 0.0   0.0  0.0   0.0  0.0   0.0  0.25     0.0  0.0   0.0  0.0   0.0  0.0 \n",
       " 0.0   0.0  0.0   0.0  0.0   0.0  0.0      0.5  0.25  0.0  0.0   0.0  0.0 \n",
       " 0.0   0.0  0.0   0.0  0.0   0.0  0.0   …  0.0  0.25  0.5  0.25  0.0  0.0 \n",
       " 0.0   0.0  0.0   0.0  0.0   0.0  0.0      0.0  0.0   0.0  0.25  0.5  0.25\n",
       " 0.0   0.0  0.0   0.0  0.0   0.0  0.0      0.0  0.0   0.0  0.0   0.0  0.25"
      ]
     },
     "execution_count": 97,
     "metadata": {},
     "output_type": "execute_result"
    }
   ],
   "source": [
    "prolongation2(15)"
   ]
  },
  {
   "cell_type": "code",
   "execution_count": null,
   "metadata": {},
   "outputs": [],
   "source": []
  },
  {
   "cell_type": "code",
   "execution_count": 60,
   "metadata": {},
   "outputs": [
    {
     "data": {
      "text/plain": [
       "solve (generic function with 1 method)"
      ]
     },
     "execution_count": 60,
     "metadata": {},
     "output_type": "execute_result"
    }
   ],
   "source": [
    "# Solves the System Ax=b with de Deflation-Operator R\n",
    "function solve(A, b, R)\n",
    "    # Compute A = M - N\n",
    "    M = Diagonal(A)\n",
    "    M1 = M^(-1)\n",
    "    N = M - A\n",
    "    x = ones(size(A,1))\n",
    "    \n",
    "    while(norm(b-A*x)>0.1)\n",
    "        x = (M1 * N * x) + (M1 * b)\n",
    "    end\n",
    "    x\n",
    "end"
   ]
  },
  {
   "cell_type": "code",
   "execution_count": 61,
   "metadata": {},
   "outputs": [
    {
     "data": {
      "text/plain": [
       "3-element Array{Float64,1}:\n",
       "  NaN\n",
       " -Inf\n",
       "  Inf"
      ]
     },
     "execution_count": 61,
     "metadata": {},
     "output_type": "execute_result"
    }
   ],
   "source": [
    "A = [4. 12. -16.; 12. 37. -43.; -16. -43. 98.]\n",
    "R = [1. 0. 0.; 0. 0. 1.; 0. 0. 0.]\n",
    "solve(A, [1.;2.;3.], 1.)"
   ]
  }
 ],
 "metadata": {
  "kernelspec": {
   "display_name": "Julia 0.6.2",
   "language": "julia",
   "name": "julia-0.6"
  },
  "language_info": {
   "file_extension": ".jl",
   "mimetype": "application/julia",
   "name": "julia",
   "version": "0.6.2"
  }
 },
 "nbformat": 4,
 "nbformat_minor": 2
}
