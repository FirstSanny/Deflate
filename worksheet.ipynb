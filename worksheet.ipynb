{
 "cells": [
  {
   "cell_type": "code",
   "execution_count": 11,
   "metadata": {},
   "outputs": [],
   "source": [
    "using DataFrames\n"
   ]
  },
  {
   "cell_type": "code",
   "execution_count": 12,
   "metadata": {},
   "outputs": [
    {
     "name": "stderr",
     "output_type": "stream",
     "text": [
      "WARNING: replacing module SimpleProlongations\n",
      "WARNING: replacing module AggregationbasedProlongation\n"
     ]
    },
    {
     "data": {
      "text/plain": [
       "Solver"
      ]
     },
     "execution_count": 12,
     "metadata": {},
     "output_type": "execute_result"
    },
    {
     "name": "stderr",
     "output_type": "stream",
     "text": [
      "WARNING: replacing module ReductionbasedProlongation\n",
      "WARNING: replacing module Solver\n"
     ]
    }
   ],
   "source": [
    "using Plots\n",
    "using MatrixMarket\n",
    "include(\"D:/git/Deflate/src/SimpleProlongations.jl\")\n",
    "include(\"D:/git/Deflate/src/AggregationbasedProlongation.jl\")\n",
    "include(\"D:/git/Deflate/src/ReductionbasedProlongation.jl\")\n",
    "include(\"D:/git/Deflate/src/Solver.jl\")"
   ]
  },
  {
   "cell_type": "code",
   "execution_count": 28,
   "metadata": {},
   "outputs": [
    {
     "data": {
      "text/plain": [
       "getA (generic function with 1 method)"
      ]
     },
     "execution_count": 28,
     "metadata": {},
     "output_type": "execute_result"
    }
   ],
   "source": [
    "function getA()\n",
    "    # mmread(\"matrices/bcsstm26.mtx\")\n",
    "    # mmread(\"matrices/nos7.mtx\")\n",
    "    # mmread(\"matrices/pde225.mtx\")\n",
    "    # mmread(\"matrices/gr_30_30.mtx\")\n",
    "    mmread(\"matrices/bcsstk25.mtx\")\n",
    "end"
   ]
  },
  {
   "cell_type": "code",
   "execution_count": null,
   "metadata": {
    "scrolled": false
   },
   "outputs": [],
   "source": [
    "A = getA()\n",
    "n = size(A,1)\n",
    "b = ones(Float64, n,1)\n",
    "useM3 = false\n",
    "# solve\n",
    "@time x1, history1 = Solver.solve(getA(), b, SimpleProlongations.prolongation1(n), useM3)\n",
    "@time x2, history2 = Solver.solve(getA(), b, SimpleProlongations.prolongation2(n), useM3)\n",
    "@time x3, history3 = Solver.solve(getA(), b, AggregationbasedProlongation.prolongationAggregation(getA()), useM3)\n",
    "@time x4, history4 = Solver.solve(getA(), b, ReductionbasedProlongation.prolongationReduction(getA()), useM3)\n",
    "\n",
    "# plot\n",
    "#gr()\n",
    "pyplot()\n",
    "history1data = history1.data[:resnorm]\n",
    "history2data = history2.data[:resnorm]\n",
    "history3data = history3.data[:resnorm]\n",
    "history4data = history4.data[:resnorm]\n",
    "\n",
    "println(string(\"res-norm: \", history1data[end]))\n",
    "println(string(\"res-norm: \", history2data[end]))\n",
    "println(string(\"res-norm: \", history3data[end]))\n",
    "println(string(\"res-norm: \", history4data[end]))\n",
    "\n",
    "fig = plot(history1data, xlabel=\"iterations\", ylabel=\"res-norm\", label=\"simple prolongation\", yscale = :log10)\n",
    "plot!(history2data, label=\"prolongation with weights\")\n",
    "plot!(history3data, label=\"aggregation-based prolongation\")\n",
    "plot!(history4data, label=\"reduction-based prolongation\")\n",
    "#savefig(\"prolongations.png\")"
   ]
  },
  {
   "cell_type": "code",
   "execution_count": null,
   "metadata": {},
   "outputs": [],
   "source": []
  }
 ],
 "metadata": {
  "kernelspec": {
   "display_name": "Julia 0.6.2",
   "language": "julia",
   "name": "julia-0.6"
  },
  "language_info": {
   "file_extension": ".jl",
   "mimetype": "application/julia",
   "name": "julia",
   "version": "0.6.2"
  }
 },
 "nbformat": 4,
 "nbformat_minor": 2
}
